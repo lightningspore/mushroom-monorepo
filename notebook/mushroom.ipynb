{
 "cells": [
  {
   "cell_type": "markdown",
   "id": "59a191b6-f92a-4217-96e2-d45ddf41f10d",
   "metadata": {},
   "source": [
    "# Import everything"
   ]
  },
  {
   "cell_type": "code",
   "execution_count": 1,
   "id": "4ceed1e1-e5de-40a3-b86c-45ad0b1b4a48",
   "metadata": {},
   "outputs": [],
   "source": [
    "import cv2\n",
    "from pprint import pprint\n",
    "from requests import post\n",
    "\n",
    "\n",
    "from ishelly.components.switch import SwitchSetRequest, SwitchSetParams\n",
    "from ishelly.client import ShellyPlug\n"
   ]
  },
  {
   "cell_type": "markdown",
   "id": "e7224044-2f7d-47c2-823e-385b578d9b3b",
   "metadata": {},
   "source": [
    "# Initialize plug object"
   ]
  },
  {
   "cell_type": "code",
   "execution_count": 2,
   "id": "4f5e387e-9b08-4a0a-bb32-fdeefb779ce7",
   "metadata": {},
   "outputs": [
    {
     "name": "stdout",
     "output_type": "stream",
     "text": [
      "Getting device info\n",
      "Base init completed\n"
     ]
    }
   ],
   "source": [
    "plug_1 = ShellyPlug(\"http://192.168.1.201\")\n"
   ]
  },
  {
   "cell_type": "markdown",
   "id": "17b0c6b8-01b2-40ce-8358-128b0ec4a5ee",
   "metadata": {},
   "source": [
    "# Get the current config for reference"
   ]
  },
  {
   "cell_type": "code",
   "execution_count": 3,
   "id": "5243f8d1-8f27-4a69-a98d-1106ac7cff71",
   "metadata": {},
   "outputs": [
    {
     "name": "stdout",
     "output_type": "stream",
     "text": [
      "{'id': 1, 'src': 'shellyplugus-083af2004684', 'result': {'id': 0, 'name': 'electric burner #1', 'initial_state': 'on', 'auto_on': False, 'auto_on_delay': 60.0, 'auto_off': True, 'auto_off_delay': 5.0, 'power_limit': 4480, 'voltage_limit': 280, 'autorecover_voltage_errors': False, 'current_limit': 16.0}}\n",
      "Got Config\n",
      "SwitchConfig(id=0, name='electric burner #1', initial_state='on', auto_on=False, auto_on_delay=60, auto_off=True, auto_off_delay=5, autorecover_voltage_errors=False, input_id=None, power_limit=4480, voltage_limit=280, undervoltage_limit=None, current_limit=16, restart_required=None)\n"
     ]
    }
   ],
   "source": [
    "switch_config = plug_1.switch.get_config()\n",
    "print(\"Got Config\")\n",
    "pprint(switch_config)"
   ]
  },
  {
   "cell_type": "code",
   "execution_count": 4,
   "id": "007dea99-3030-4eb7-9a09-ec603acb9394",
   "metadata": {},
   "outputs": [
    {
     "name": "stdout",
     "output_type": "stream",
     "text": [
      "Got Status\n",
      "id=0 source='timer' output=False timer_started_at=None timer_duration=None apower=0.0 voltage=124.1 current=0.0 pf=None freq=None aenergy=ActiveEnergy(total=5847.442, by_minute=[0.0, 0.0, 0.0], minute_ts=1706199253) temperature=Temperature(tC=46.8, tF=116.3) errors=None\n"
     ]
    }
   ],
   "source": [
    "switch_status = plug_1.switch.get_status()\n",
    "print(\"Got Status\")\n",
    "print(switch_status)"
   ]
  },
  {
   "cell_type": "markdown",
   "id": "cd6c4830-88c6-4b77-93e9-b20c023c87fb",
   "metadata": {},
   "source": [
    "# List Current Scheduled Actions"
   ]
  },
  {
   "cell_type": "code",
   "execution_count": 5,
   "id": "6d94eefc",
   "metadata": {},
   "outputs": [
    {
     "name": "stdout",
     "output_type": "stream",
     "text": [
      "id=2 enable=False timespec='*/30 * * * * *' calls=[JSONRPCRequest(jsonrpc='2.0', id=1, method='Switch.Set', params={'id': 0, 'on': True, 'toggle_after': None})]\n",
      "id=3 enable=True timespec='0 0 7 * * *' calls=[JSONRPCRequest(jsonrpc='2.0', id=1, method='Switch.Set', params={'id': 0, 'on': True, 'toggle_after': 0})]\n"
     ]
    }
   ],
   "source": [
    "current_schedule = plug_1.schedule.list()\n",
    "for task in current_schedule.jobs:\n",
    "    print(task)"
   ]
  },
  {
   "cell_type": "markdown",
   "id": "86816a35",
   "metadata": {},
   "source": [
    "# Create PID Control Schedule"
   ]
  },
  {
   "cell_type": "markdown",
   "id": "2cc688a7",
   "metadata": {},
   "source": [
    "Dont run this if the list schedule shows this schedule already exists. Instead we can enable/disable the scheduled task."
   ]
  },
  {
   "cell_type": "code",
   "execution_count": null,
   "id": "581b8703-bb3d-4edf-881b-04f4504590f7",
   "metadata": {},
   "outputs": [],
   "source": [
    "timespec1 = \"*/30 * * * * *\"\n",
    "\n",
    "job = SwitchSetRequest(\n",
    "    id=1,\n",
    "    params=SwitchSetParams(id=0, on=True),\n",
    ")\n",
    "plug_1.schedule.create(enable=True, timespec=timespec1, calls=[job])"
   ]
  },
  {
   "cell_type": "markdown",
   "id": "c5014ad5",
   "metadata": {},
   "source": [
    "# Enable/Disable PID Control Schedule"
   ]
  },
  {
   "cell_type": "markdown",
   "id": "44eddd4d",
   "metadata": {},
   "source": [
    "Enable"
   ]
  },
  {
   "cell_type": "code",
   "execution_count": 6,
   "id": "e1db0c00",
   "metadata": {},
   "outputs": [
    {
     "name": "stdout",
     "output_type": "stream",
     "text": [
      "PID Schedule Active: True\n"
     ]
    }
   ],
   "source": [
    "pid_control_active = True\n",
    "\n",
    "plug_1.schedule.update(2, enabled=pid_control_active)\n",
    "print(f\"PID Schedule Active: {plug_1.schedule.list().jobs[0].enable}\")\n"
   ]
  },
  {
   "cell_type": "markdown",
   "id": "c847a24a",
   "metadata": {},
   "source": [
    "Disable"
   ]
  },
  {
   "cell_type": "code",
   "execution_count": 16,
   "id": "bb5082a3",
   "metadata": {},
   "outputs": [
    {
     "name": "stdout",
     "output_type": "stream",
     "text": [
      "PID Schedule Active: False\n"
     ]
    }
   ],
   "source": [
    "pid_control_active = False\n",
    "\n",
    "plug_1.schedule.update(2, enabled=pid_control_active)\n",
    "print(f\"PID Schedule Active: {plug_1.schedule.list().jobs[0].enable}\")"
   ]
  },
  {
   "cell_type": "markdown",
   "id": "648b830d",
   "metadata": {},
   "source": [
    "# Create heater control"
   ]
  },
  {
   "cell_type": "code",
   "execution_count": 7,
   "id": "5335f7f0",
   "metadata": {},
   "outputs": [],
   "source": [
    "loop_time_interval = 30\n",
    "\n",
    "def set_heater_power(level):\n",
    "    # level = 0-100\n",
    "    print(f\"using power level: {level}\")\n",
    "    old_config = plug_1.switch.get_config()\n",
    "    new_config = old_config.model_copy()\n",
    "    new_config.initial_state = \"on\"\n",
    "    new_auto_off_interval = max(1, int(level * 0.01 * loop_time_interval))\n",
    "    time_off = loop_time_interval - new_auto_off_interval\n",
    "    print(f\"new on/off interval seconds: {new_auto_off_interval} (time on) / {time_off} (time off)\")\n",
    "    new_config.auto_off_delay = new_auto_off_interval\n",
    "    plug_1.switch.set_config(new_config)"
   ]
  },
  {
   "cell_type": "code",
   "execution_count": 8,
   "id": "57bbae10",
   "metadata": {},
   "outputs": [
    {
     "name": "stdout",
     "output_type": "stream",
     "text": [
      "using power level: 100\n",
      "{'id': 1, 'src': 'shellyplugus-083af2004684', 'result': {'id': 0, 'name': 'electric burner #1', 'initial_state': 'on', 'auto_on': False, 'auto_on_delay': 60.0, 'auto_off': True, 'auto_off_delay': 5.0, 'power_limit': 4480, 'voltage_limit': 280, 'autorecover_voltage_errors': False, 'current_limit': 16.0}}\n",
      "new on/off interval seconds: 30 (time on) / 0 (time off)\n",
      "{'id': 1, 'src': 'shellyplugus-083af2004684', 'result': {'restart_required': False}}\n"
     ]
    }
   ],
   "source": [
    "set_heater_power(100)"
   ]
  },
  {
   "cell_type": "code",
   "execution_count": null,
   "id": "0a4ab60f",
   "metadata": {},
   "outputs": [],
   "source": []
  }
 ],
 "metadata": {
  "kernelspec": {
   "display_name": "mushroom-mono",
   "language": "python",
   "name": "mushroom-mono"
  },
  "language_info": {
   "codemirror_mode": {
    "name": "ipython",
    "version": 3
   },
   "file_extension": ".py",
   "mimetype": "text/x-python",
   "name": "python",
   "nbconvert_exporter": "python",
   "pygments_lexer": "ipython3",
   "version": "3.12.1"
  }
 },
 "nbformat": 4,
 "nbformat_minor": 5
}
