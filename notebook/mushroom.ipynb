{
 "cells": [
  {
   "cell_type": "markdown",
   "id": "59a191b6-f92a-4217-96e2-d45ddf41f10d",
   "metadata": {
    "jp-MarkdownHeadingCollapsed": true
   },
   "source": [
    "# Import everything"
   ]
  },
  {
   "cell_type": "code",
   "execution_count": 3,
   "id": "4ceed1e1-e5de-40a3-b86c-45ad0b1b4a48",
   "metadata": {},
   "outputs": [],
   "source": [
    "import cv2\n",
    "from pprint import pprint\n",
    "from requests import post\n",
    "\n",
    "\n",
    "from ishelly.components.switch import SwitchSetRequest, SwitchSetParams\n",
    "from ishelly.client import ShellyPlug\n"
   ]
  },
  {
   "cell_type": "markdown",
   "id": "e7224044-2f7d-47c2-823e-385b578d9b3b",
   "metadata": {
    "jp-MarkdownHeadingCollapsed": true
   },
   "source": [
    "# Initialize plug object"
   ]
  },
  {
   "cell_type": "code",
   "execution_count": 4,
   "id": "4f5e387e-9b08-4a0a-bb32-fdeefb779ce7",
   "metadata": {},
   "outputs": [
    {
     "name": "stdout",
     "output_type": "stream",
     "text": [
      "Getting device info\n",
      "Base init completed\n"
     ]
    }
   ],
   "source": [
    "plug_1 = ShellyPlug(\"http://192.168.1.201\")\n"
   ]
  },
  {
   "cell_type": "markdown",
   "id": "17b0c6b8-01b2-40ce-8358-128b0ec4a5ee",
   "metadata": {},
   "source": [
    "# Get the current config for reference"
   ]
  },
  {
   "cell_type": "code",
   "execution_count": 8,
   "id": "5243f8d1-8f27-4a69-a98d-1106ac7cff71",
   "metadata": {},
   "outputs": [
    {
     "name": "stdout",
     "output_type": "stream",
     "text": [
      "{'id': 1, 'src': 'shellyplugus-083af2004684', 'result': {'id': 0, 'name': 'electric burner #1', 'initial_state': 'on', 'auto_on': False, 'auto_on_delay': 60.0, 'auto_off': True, 'auto_off_delay': 7.0, 'power_limit': 4480, 'voltage_limit': 280, 'autorecover_voltage_errors': False, 'current_limit': 16.0}}\n",
      "SwitchConfig(id=0, name='electric burner #1', initial_state='on', auto_on=False, auto_on_delay=60, auto_off=True, auto_off_delay=7, autorecover_voltage_errors=False, input_id=None, power_limit=4480, voltage_limit=280, undervoltage_limit=None, current_limit=16, restart_required=None)\n"
     ]
    }
   ],
   "source": [
    "switch_config = plug_1.switch.get_config()\n",
    "pprint(switch_config)"
   ]
  },
  {
   "cell_type": "code",
   "execution_count": 9,
   "id": "007dea99-3030-4eb7-9a09-ec603acb9394",
   "metadata": {},
   "outputs": [
    {
     "data": {
      "text/plain": [
       "SwitchStatus(id=0, source='HTTP_in', output=False, timer_started_at=None, timer_duration=None, apower=0.0, voltage=123.9, current=0.0, pf=None, freq=None, aenergy=ActiveEnergy(total=3252.156, by_minute=[0.0, 0.0, 0.0], minute_ts=1704909394), temperature=Temperature(tC=46.5, tF=115.7), errors=None)"
      ]
     },
     "execution_count": 9,
     "metadata": {},
     "output_type": "execute_result"
    }
   ],
   "source": [
    "plug_1.switch.get_status()"
   ]
  },
  {
   "cell_type": "code",
   "execution_count": null,
   "id": "5415091f-44ec-4275-954a-2a7833499f68",
   "metadata": {},
   "outputs": [],
   "source": []
  },
  {
   "cell_type": "code",
   "execution_count": null,
   "id": "f7966ca7-6ada-45b1-a9e8-8b19f996dc3f",
   "metadata": {},
   "outputs": [],
   "source": []
  }
 ],
 "metadata": {
  "kernelspec": {
   "display_name": "mushroom-mono",
   "language": "python",
   "name": "mushroom-mono"
  },
  "language_info": {
   "codemirror_mode": {
    "name": "ipython",
    "version": 3
   },
   "file_extension": ".py",
   "mimetype": "text/x-python",
   "name": "python",
   "nbconvert_exporter": "python",
   "pygments_lexer": "ipython3",
   "version": "3.12.1"
  }
 },
 "nbformat": 4,
 "nbformat_minor": 5
}
