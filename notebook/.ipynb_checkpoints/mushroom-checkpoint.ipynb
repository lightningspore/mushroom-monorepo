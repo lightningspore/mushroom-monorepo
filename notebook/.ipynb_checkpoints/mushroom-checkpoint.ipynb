{
 "cells": [
  {
   "cell_type": "markdown",
   "id": "59a191b6-f92a-4217-96e2-d45ddf41f10d",
   "metadata": {},
   "source": [
    "# import everything\n"
   ]
  },
  {
   "cell_type": "code",
   "execution_count": null,
   "id": "4ceed1e1-e5de-40a3-b86c-45ad0b1b4a48",
   "metadata": {},
   "outputs": [],
   "source": [
    "import cv2"
   ]
  }
 ],
 "metadata": {
  "kernelspec": {
   "display_name": "mushroom-mono",
   "language": "python",
   "name": "mushroom-mono"
  },
  "language_info": {
   "codemirror_mode": {
    "name": "ipython",
    "version": 3
   },
   "file_extension": ".py",
   "mimetype": "text/x-python",
   "name": "python",
   "nbconvert_exporter": "python",
   "pygments_lexer": "ipython3",
   "version": "3.12.1"
  }
 },
 "nbformat": 4,
 "nbformat_minor": 5
}
